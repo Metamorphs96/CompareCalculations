{
 "cells": [
  {
   "cell_type": "code",
   "execution_count": 25,
   "metadata": {
    "collapsed": true
   },
   "outputs": [],
   "source": [
    "def BM_ss1(w,x,L):\n",
    "  return (w * x) / 2 * (L - x)"
   ]
  },
  {
   "cell_type": "code",
   "execution_count": 26,
   "metadata": {},
   "outputs": [
    {
     "data": {
      "text/plain": [
       "4.5"
      ]
     },
     "execution_count": 26,
     "metadata": {},
     "output_type": "execute_result"
    }
   ],
   "source": [
    "BM_ss1(1,3,6)"
   ]
  },
  {
   "cell_type": "code",
   "execution_count": 27,
   "metadata": {
    "collapsed": true
   },
   "outputs": [],
   "source": [
    "Cpe = -0.7\n",
    "qz = 0.96         #kPa\n",
    "pn = Cpe * qz     #kPa\n",
    "w = pn * 3        #kN/m\n",
    "L = 24            #m\n",
    "inc = L / 12\n",
    "x=[]\n",
    "m=[]\n",
    "for i in range(13):\n",
    "    if i==0:\n",
    "        x.append(0)\n",
    "    else:\n",
    "        x.append(x[i-1]+inc)\n",
    "    m.append(BM_ss1(w, x[i], L))   "
   ]
  },
  {
   "cell_type": "code",
   "execution_count": 28,
   "metadata": {},
   "outputs": [
    {
     "data": {
      "text/plain": [
       "[-0.0,\n",
       " -44.352000000000004,\n",
       " -80.64,\n",
       " -108.864,\n",
       " -129.024,\n",
       " -141.12,\n",
       " -145.152,\n",
       " -141.12,\n",
       " -129.024,\n",
       " -108.86399999999999,\n",
       " -80.64,\n",
       " -44.352000000000004,\n",
       " -0.0]"
      ]
     },
     "execution_count": 28,
     "metadata": {},
     "output_type": "execute_result"
    }
   ],
   "source": [
    "m"
   ]
  },
  {
   "cell_type": "code",
   "execution_count": 29,
   "metadata": {},
   "outputs": [
    {
     "name": "stdout",
     "output_type": "stream",
     "text": [
      "-0.00\n",
      "-44.35\n",
      "-80.64\n",
      "-108.86\n",
      "-129.02\n",
      "-141.12\n",
      "-145.15\n",
      "-141.12\n",
      "-129.02\n",
      "-108.86\n",
      "-80.64\n",
      "-44.35\n",
      "-0.00\n"
     ]
    }
   ],
   "source": [
    "for i in range(13):\n",
    "    print(\"{:5.2f}\".format(m[i]))"
   ]
  },
  {
   "cell_type": "code",
   "execution_count": 30,
   "metadata": {},
   "outputs": [
    {
     "data": {
      "image/png": "[encoded data removed]",
      "text/plain": [
       "<matplotlib.figure.Figure at 0x16963e4b630>"
      ]
     },
     "metadata": {},
     "output_type": "display_data"
    }
   ],
   "source": [
    "import matplotlib.pyplot as plt\n",
    "plt.plot(x,m,'r',label='M*')\n",
    "plt.title('Moment vs Span')\n",
    "plt.ylabel('Moment')\n",
    "plt.xlabel('Span')\n",
    "plt.grid(True)\n",
    "plt.legend(loc='upper left')\n",
    "plt.show()"
   ]
  }
 ],
 "metadata": {
  "kernelspec": {
   "display_name": "Python 3",
   "language": "python",
   "name": "python3"
  },
  "language_info": {
   "codemirror_mode": {
    "name": "ipython",
    "version": 3
   },
   "file_extension": ".py",
   "mimetype": "text/x-python",
   "name": "python",
   "nbconvert_exporter": "python",
   "pygments_lexer": "ipython3",
   "version": "3.6.3"
  }
 },
 "nbformat": 4,
 "nbformat_minor": 2
}
