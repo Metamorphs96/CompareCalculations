{
 "cells": [
  {
   "cell_type": "code",
   "execution_count": 1,
   "metadata": {
    "collapsed": true
   },
   "outputs": [],
   "source": [
    "Cpe=1.2\n",
    "qz=[0.69,0.96,1.5]\n",
    "pn=[]\n",
    "for q in qz:\n",
    "    pn.append(Cpe*q)\n",
    "s=3    \n",
    "w=[]\n",
    "M=[]\n",
    "L0=6\n",
    "for i in range(len(pn)):\n",
    "    w.append(pn[i]*s)\n",
    "    M.append(w[i]*L0**2/8)"
   ]
  },
  {
   "cell_type": "code",
   "execution_count": 2,
   "metadata": {},
   "outputs": [
    {
     "data": {
      "text/plain": [
       "[0.828, 1.152, 1.7999999999999998]"
      ]
     },
     "execution_count": 2,
     "metadata": {},
     "output_type": "execute_result"
    }
   ],
   "source": [
    "pn"
   ]
  },
  {
   "cell_type": "code",
   "execution_count": 3,
   "metadata": {},
   "outputs": [
    {
     "data": {
      "text/plain": [
       "[2.484, 3.4559999999999995, 5.3999999999999995]"
      ]
     },
     "execution_count": 3,
     "metadata": {},
     "output_type": "execute_result"
    }
   ],
   "source": [
    "w"
   ]
  },
  {
   "cell_type": "code",
   "execution_count": 4,
   "metadata": {},
   "outputs": [
    {
     "data": {
      "text/plain": [
       "[11.178, 15.551999999999998, 24.299999999999997]"
      ]
     },
     "execution_count": 4,
     "metadata": {},
     "output_type": "execute_result"
    }
   ],
   "source": [
    "M"
   ]
  },
  {
   "cell_type": "code",
   "execution_count": 5,
   "metadata": {},
   "outputs": [
    {
     "name": "stdout",
     "output_type": "stream",
     "text": [
      "[]\n",
      "[0, 1, 2, 3, 4, 5, 6, 7, 8, 9]\n",
      "[1, 2, 3, 4, 5, 6, 7, 8, 9]\n"
     ]
    }
   ],
   "source": [
    "# empty range\n",
    "print(list(range(0)))\n",
    "\n",
    "# using range(stop)\n",
    "print(list(range(10)))\n",
    "\n",
    "# using range(start, stop)\n",
    "print(list(range(1, 10)))"
   ]
  },
  {
   "cell_type": "code",
   "execution_count": 6,
   "metadata": {
    "collapsed": true
   },
   "outputs": [],
   "source": [
    "L=[]\n",
    "M=[]\n",
    "for i in range(12):\n",
    "    L.append(i)\n",
    "    M.append(w[1]*L[i]**2/8) "
   ]
  },
  {
   "cell_type": "code",
   "execution_count": 7,
   "metadata": {},
   "outputs": [
    {
     "data": {
      "image/png": "[encoded data removed]",
      "text/plain": [
       "<matplotlib.figure.Figure at 0x1e1b998a550>"
      ]
     },
     "metadata": {},
     "output_type": "display_data"
    }
   ],
   "source": [
    "import matplotlib.pyplot as plt\n",
    "plt.plot(L,M,'r--')\n",
    "plt.ylabel('Moment')\n",
    "plt.xlabel('Span')\n",
    "plt.show()"
   ]
  },
  {
   "cell_type": "code",
   "execution_count": 8,
   "metadata": {
    "collapsed": true
   },
   "outputs": [],
   "source": [
    "L=[]\n",
    "M=[]\n",
    "for i in range(3):\n",
    "    M.append([])    \n",
    "    for j in range(12):\n",
    "        if i==0: L.append(j)\n",
    "        M[i].append(w[i]*L[j]**2/8)"
   ]
  },
  {
   "cell_type": "code",
   "execution_count": 9,
   "metadata": {},
   "outputs": [
    {
     "name": "stdout",
     "output_type": "stream",
     "text": [
      "      0.00      0.31      1.24      2.79      4.97      7.76     11.18     15.21     19.87     25.15     31.05     37.57\n",
      "      0.00      0.43      1.73      3.89      6.91     10.80     15.55     21.17     27.65     34.99     43.20     52.27\n",
      "      0.00      0.67      2.70      6.07     10.80     16.88     24.30     33.07     43.20     54.67     67.50     81.67\n"
     ]
    }
   ],
   "source": [
    "for i in range(3):\n",
    "    for j in range(12):\n",
    "        print(\"{:10.2f}\".format(M[i][j]),end='')\n",
    "    print()"
   ]
  },
  {
   "cell_type": "code",
   "execution_count": 10,
   "metadata": {},
   "outputs": [
    {
     "data": {
      "image/png": "[encoded data removed]",
      "text/plain": [
       "<matplotlib.figure.Figure at 0x1e1b9d62048>"
      ]
     },
     "metadata": {},
     "output_type": "display_data"
    }
   ],
   "source": [
    "plt.plot(L,M[0],'r',L,M[1],'b',L,M[2],'g')\n",
    "plt.ylabel('Moment')\n",
    "plt.xlabel('Span')\n",
    "plt.show()"
   ]
  }
 ],
 "metadata": {
  "kernelspec": {
   "display_name": "Python 3",
   "language": "python",
   "name": "python3"
  },
  "language_info": {
   "codemirror_mode": {
    "name": "ipython",
    "version": 3
   },
   "file_extension": ".py",
   "mimetype": "text/x-python",
   "name": "python",
   "nbconvert_exporter": "python",
   "pygments_lexer": "ipython3",
   "version": "3.6.3"
  }
 },
 "nbformat": 4,
 "nbformat_minor": 2
}
